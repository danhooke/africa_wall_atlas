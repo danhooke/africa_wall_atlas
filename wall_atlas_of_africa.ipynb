{
 "cells": [
  {
   "cell_type": "markdown",
   "metadata": {},
   "source": [
    "# Reproducing 'Philips' Comparative Wall Atlas of Africa'\n",
    "\n",
    "Recreating Phillips Comparative Wall Atlas of Africa (circa 1950s).\n",
    "\n",
    "**Map Size:**\n",
    "\n",
    "- Real size of map (interior border) in inches is 33.5 (width) by 40.5 (height).\n",
    "- Jupyter size of map (interior border) in inches **@20%** is 6.7 by 8.1.\n",
    "- Jupyter size of map (interior border) in inches **@30%** is 10.05 by 12.15.\n",
    "\n",
    "<details>\n",
    "<summary><b>Map</b></summary>\n",
    "\n",
    "<img src='figures/Wall_Map_target.png' width='500px'>\n",
    "<!-- ![map](figures/Wall_Map_target.png) -->\n",
    "</details>\n",
    "\n",
    "<details>\n",
    "<summary><b>Map Features</b></summary>\n",
    "\n",
    "| **Geographical Features**                           | **Climate Variables**                                                          | **Text Lables**                      |\n",
    "| :-                                                  | :-                                                                             | :-                                   |\n",
    "| Labelled gridlines                                  | Total rainfall (inches) over 6 month period (land only)                        | Settlements                          |\n",
    "| Annotations for Equator and the Tropics             | Pressure isobars (in inches and Millibars) for 6 month period (ocean and land) | Land features (e.g. Deserts/Plateaus)|\n",
    "| Rivers (sized by thickness corresponding to width)  | Prevailing wind (equal-sized arrows) for 6 month period (ocean and land)       | Ocean features (e.g. Channels/Gulfs) |\n",
    "| National borders (dashed grey lines)                | Lakes and Rivers                                                               | Colorbar, legend, scale, temporal information   \n",
    "| Wetlands ???                                    | Inset UK climate figure for reference                    |\n",
    "</details>\n",
    "\n",
    "\n"
   ]
  }
 ],
 "metadata": {
  "language_info": {
   "name": "python"
  }
 },
 "nbformat": 4,
 "nbformat_minor": 2
}
